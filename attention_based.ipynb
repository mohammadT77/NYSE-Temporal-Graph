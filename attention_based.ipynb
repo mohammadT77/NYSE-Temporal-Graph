{
 "cells": [
  {
   "cell_type": "code",
   "execution_count": 3,
   "metadata": {},
   "outputs": [
    {
     "name": "stdout",
     "output_type": "stream",
     "text": [
      "/teamspace/studios/this_studio/NYSE-Temporal-Graph-Construction\n"
     ]
    },
    {
     "name": "stderr",
     "output_type": "stream",
     "text": [
      "/home/zeus/miniconda3/envs/cloudspace/lib/python3.10/site-packages/IPython/core/magics/osm.py:417: UserWarning: using dhist requires you to install the `pickleshare` library.\n",
      "  self.shell.db['dhist'] = compress_dhist(dhist)[-100:]\n"
     ]
    }
   ],
   "source": [
    "%cd NYSE-Temporal-Graph-Construction"
   ]
  },
  {
   "cell_type": "code",
   "execution_count": 91,
   "metadata": {},
   "outputs": [
    {
     "name": "stdout",
     "output_type": "stream",
     "text": [
      "Device: cpu\n"
     ]
    }
   ],
   "source": [
    "import networkx as nx\n",
    "from matplotlib import pyplot as plt\n",
    "from tqdm import tqdm\n",
    "from os.path import join as join_path\n",
    "import os\n",
    "from torch.utils.data import Dataset\n",
    "import kagglehub\n",
    "import numpy as np\n",
    "import pandas as pd\n",
    "from functools import cache\n",
    "import torch\n",
    "\n",
    "\n",
    "device = torch.device('cuda' if torch.cuda.is_available() else 'cpu')\n",
    "print(\"Device:\", device)"
   ]
  },
  {
   "cell_type": "code",
   "execution_count": 4,
   "metadata": {},
   "outputs": [],
   "source": [
    "dataset_path = kagglehub.dataset_download(\"dgawlik/nyse\")"
   ]
  },
  {
   "cell_type": "code",
   "execution_count": 62,
   "metadata": {},
   "outputs": [],
   "source": [
    "fundamentals_df = pd.read_csv(join_path(dataset_path,\"fundamentals.csv\"))\n",
    "df = pd.read_csv(join_path(dataset_path, \"prices.csv\"))\n",
    "prices_split_adjusted_df = pd.read_csv(join_path(dataset_path, \"prices-split-adjusted.csv\"))\n",
    "securities_df = pd.read_csv(join_path(dataset_path, \"securities.csv\"))"
   ]
  },
  {
   "cell_type": "code",
   "execution_count": 63,
   "metadata": {},
   "outputs": [
    {
     "name": "stdout",
     "output_type": "stream",
     "text": [
      "Num of symbols: 501\n"
     ]
    }
   ],
   "source": [
    "all_symbols = prices_split_adjusted_df['symbol'].unique()\n",
    "\n",
    "@cache\n",
    "def symbol_to_int(symbol: str):\n",
    "    return all_symbols.tolist().index(symbol)\n",
    "\n",
    "@cache\n",
    "def int_to_symbol(idx):\n",
    "    return all_symbols[idx]\n",
    "\n",
    "print(\"Num of symbols:\", len(all_symbols))"
   ]
  },
  {
   "cell_type": "code",
   "execution_count": 64,
   "metadata": {},
   "outputs": [
    {
     "name": "stdout",
     "output_type": "stream",
     "text": [
      "[datetime.date(2010, 1, 4) datetime.date(2010, 1, 5)\n",
      " datetime.date(2010, 1, 6) ... datetime.date(2016, 12, 28)\n",
      " datetime.date(2016, 12, 29) datetime.date(2016, 12, 30)]\n"
     ]
    }
   ],
   "source": [
    "prices_split_adjusted_df['date'] = pd.to_datetime(prices_split_adjusted_df['date']).dt.date\n",
    "dates = prices_split_adjusted_df['date'].sort_values().unique()\n",
    "\n",
    "\n",
    "def any_to_date(date):\n",
    "    if not isinstance(date, pd._libs.tslibs.timestamps.Timestamp):\n",
    "        date = pd.to_datetime(date).date()\n",
    "    return date\n",
    "\n",
    "@cache\n",
    "def date_to_int(date):\n",
    "    date = any_to_date(date)\n",
    "    return dates.tolist().index(date)\n",
    "\n",
    "@cache\n",
    "def int_to_date(idx):\n",
    "    return dates[idx]\n",
    "\n",
    "print(dates)"
   ]
  },
  {
   "cell_type": "code",
   "execution_count": null,
   "metadata": {},
   "outputs": [
    {
     "name": "stdout",
     "output_type": "stream",
     "text": [
      "df      date  symbol       open      close        low       high       volume\n",
      "251     0       1  22.453504  22.389128  22.267525  22.625180    3815500.0\n",
      "252     0       2   4.840000   4.770000   4.660000   4.940000    9837300.0\n",
      "253     0       3  40.700001  40.380001  40.360001  41.040001    1701700.0\n",
      "254     0       4  30.490000  30.572857  30.340000  30.642857  123432400.0\n",
      "255     0       5  26.290001  26.629999  26.139999  26.690001    2455900.0\n",
      "256     0       6  26.000339  26.129884  25.870792  26.177866   10829000.0\n",
      "257     0       7  41.520000  42.070000  41.500000  42.200001    3650100.0\n",
      "258     0       8  36.650002  37.090000  36.650002  37.299999    4710200.0\n",
      "259     0       9  31.790001  31.670000  31.610001  32.189999    2102700.0\n",
      "260     0      10  31.480000  31.469999  31.330000  31.840000    3472500.0\n"
     ]
    }
   ],
   "source": [
    "\n",
    "# class NYSEDailyDataset(Dataset):\n",
    "#     def __init__(self, prices_df):\n",
    "#         self.df = prices_df.copy()\n",
    "        \n",
    "#         self.df['date'] = self.df['date'].apply(date_to_int)\n",
    "#         self.df['symbol'] = self.df['symbol'].apply(symbol_to_int)\n",
    "\n",
    "#         self.df.sort_values(['date', 'symbol'], inplace=True)\n",
    "\n",
    "\n",
    "#         print(\"df\", self.df.head(10))\n",
    "\n",
    "#     def __len__(self):\n",
    "#         return len(self.df)\n",
    "\n",
    "#     def __getitem__(self, idx):\n",
    "        \n",
    "#         return self.df.iloc[idx].to_numpy().tolist()\n",
    "        \n",
    "\n",
    "\n",
    "# dataset = NYSEDailyDataset(prices_split_adjusted_df[:500])"
   ]
  },
  {
   "cell_type": "code",
   "execution_count": 96,
   "metadata": {},
   "outputs": [],
   "source": [
    "def load_data(target_df):\n",
    "\n",
    "    df = target_df.copy()\n",
    "        \n",
    "    df['date'] = df['date'].apply(date_to_int)\n",
    "    df['symbol'] = df['symbol'].apply(symbol_to_int)\n",
    "\n",
    "    df.sort_values(['date', 'symbol'], inplace=True)\n",
    "\n",
    "    batch = []\n",
    "    current_date = df['date'].iloc[0]\n",
    "    for i, data in df.iterrows():\n",
    "        if data['date'] != current_date:\n",
    "            yield np.array(batch)\n",
    "            batch = []\n",
    "            current_date = data['date']\n",
    "        else:\n",
    "            batch.append(data.to_numpy())\n",
    "\n",
    "    if len(batch) > 0:\n",
    "        yield np.array(batch)\n",
    "        \n"
   ]
  },
  {
   "cell_type": "code",
   "execution_count": 98,
   "metadata": {},
   "outputs": [
    {
     "name": "stdout",
     "output_type": "stream",
     "text": [
      "(467, 7)\n",
      "(32, 7)\n"
     ]
    }
   ],
   "source": [
    "for batch in load_data(prices_split_adjusted_df.sort_values('date').head(500)):\n",
    "    print(batch.shape)"
   ]
  },
  {
   "cell_type": "code",
   "execution_count": null,
   "metadata": {},
   "outputs": [],
   "source": [
    "class Attnetion(torch.nn.Module):\n",
    "    def __init__(self, input_size, hidden_size):\n",
    "        super().__init__()\n",
    "        self.input_size = input_size\n",
    "        self.hidden_size = hidden_size\n",
    "\n",
    "        self.query = torch.nn.Linear(input_size, hidden_size)\n",
    "        self.key = torch.nn.Linear(input_size, hidden_size)\n",
    "        self.value = torch.nn.Linear(input_size, hidden_size)\n",
    "\n",
    "        self.softmax = torch.nn.Softmax(dim=-1)\n",
    "\n",
    "    def forward(self, x):\n",
    "        q = self.query(x)\n",
    "        k = self.key(x)\n",
    "        v = self.value(x)\n",
    "\n",
    "        attn = torch.bmm(q, k.transpose(1, 2))\n",
    "        attn = self.softmax(attn)\n",
    "\n",
    "        out = torch.bmm(attn, v)\n",
    "        return out\n",
    "\n",
    "class HiddenRNN(torch.nn.Module):\n",
    "\n",
    "    def __init__(self, input_size, hidden_size):\n",
    "        pass\n",
    "\n",
    "    def forward(self, x, attention):\n",
    "        pass\n",
    "\n",
    "class PredictorNet(torch.nn.Module):\n",
    "    def __init__(self, input_size, att_size, hidden_size):\n",
    "        super().__init__()\n",
    "        self.attnetion = Attnetion(input_size, att_size)\n",
    "        self.ffn = torch.nn.Sequential(\n",
    "            torch.nn.Linear(att_size, 64),\n",
    "            torch.nn.ReLU(),\n",
    "            torch.nn.Linear(64, 32),\n",
    "            torch.nn.ReLU(),\n",
    "            torch.nn.Linear(32, hidden_size),\n",
    "            torch.nn.ReLU()\n",
    "        )\n",
    "        \n",
    "        self.rnn = torch.nn.RNN(input_size, hidden_size, num_layers=3, batch_first=True)\n",
    "\n",
    "    def forward(self, x):\n",
    "        \n",
    "        att_out = self.attnetion(x)\n",
    "\n",
    "        ffn_out = self.ffn(att_out)\n",
    "\n",
    "        out, _ = self.rnn(ffn_out)\n",
    "\n",
    "        return out\n",
    "\n",
    "\n",
    "myNN = PredictorNet(input_size=6, att_size=64, hidden_size=32).to(device)"
   ]
  },
  {
   "cell_type": "code",
   "execution_count": null,
   "metadata": {},
   "outputs": [],
   "source": [
    "criterion = torch.nn.MSELoss()\n",
    "optimizer = torch.optim.Adam(myNN.parameters(), lr=1e-3)\n",
    "\n",
    "for epoch in range(10):\n",
    "    for i, data in enumerate(dataset):\n",
    "        data = torch.tensor(data, dtype=torch.float32).to(device)\n",
    "\n",
    "        optimizer.zero_grad()\n",
    "        output = myNN(data)\n",
    "        loss = criterion(output, data)"
   ]
  }
 ],
 "metadata": {
  "kernelspec": {
   "display_name": "cloudspace",
   "language": "python",
   "name": "python3"
  },
  "language_info": {
   "codemirror_mode": {
    "name": "ipython",
    "version": 3
   },
   "file_extension": ".py",
   "mimetype": "text/x-python",
   "name": "python",
   "nbconvert_exporter": "python",
   "pygments_lexer": "ipython3",
   "version": "3.10.10"
  }
 },
 "nbformat": 4,
 "nbformat_minor": 2
}
