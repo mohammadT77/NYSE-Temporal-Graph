{
 "cells": [
  {
   "cell_type": "code",
   "execution_count": 1,
   "metadata": {},
   "outputs": [
    {
     "name": "stdout",
     "output_type": "stream",
     "text": [
      "\n",
      "\u001b[1m[\u001b[0m\u001b[34;49mnotice\u001b[0m\u001b[1;39;49m]\u001b[0m\u001b[39;49m A new release of pip is available: \u001b[0m\u001b[31;49m24.0\u001b[0m\u001b[39;49m -> \u001b[0m\u001b[32;49m24.2\u001b[0m\n",
      "\u001b[1m[\u001b[0m\u001b[34;49mnotice\u001b[0m\u001b[1;39;49m]\u001b[0m\u001b[39;49m To update, run: \u001b[0m\u001b[32;49mpip install --upgrade pip\u001b[0m\n"
     ]
    }
   ],
   "source": [
    "!pip install -q kagglehub numpy pandas networkx matplotlib torch torch-geometric==2.4.0 torch-geometric-temporal"
   ]
  },
  {
   "cell_type": "code",
   "execution_count": 137,
   "metadata": {},
   "outputs": [
    {
     "name": "stdout",
     "output_type": "stream",
     "text": [
      "\n",
      "\u001b[1m[\u001b[0m\u001b[34;49mnotice\u001b[0m\u001b[1;39;49m]\u001b[0m\u001b[39;49m A new release of pip is available: \u001b[0m\u001b[31;49m24.0\u001b[0m\u001b[39;49m -> \u001b[0m\u001b[32;49m24.2\u001b[0m\n",
      "\u001b[1m[\u001b[0m\u001b[34;49mnotice\u001b[0m\u001b[1;39;49m]\u001b[0m\u001b[39;49m To update, run: \u001b[0m\u001b[32;49mpip install --upgrade pip\u001b[0m\n"
     ]
    }
   ],
   "source": [
    "!pip install -q torch-geometric==2.6.1"
   ]
  },
  {
   "cell_type": "code",
   "execution_count": 2,
   "metadata": {},
   "outputs": [
    {
     "name": "stdout",
     "output_type": "stream",
     "text": [
      "/teamspace/studios/this_studio/NYSE-Temporal-Graph-Construction\n"
     ]
    },
    {
     "name": "stderr",
     "output_type": "stream",
     "text": [
      "/home/zeus/miniconda3/envs/cloudspace/lib/python3.10/site-packages/IPython/core/magics/osm.py:417: UserWarning: using dhist requires you to install the `pickleshare` library.\n",
      "  self.shell.db['dhist'] = compress_dhist(dhist)[-100:]\n"
     ]
    }
   ],
   "source": [
    "%cd NYSE-Temporal-Graph-Construction"
   ]
  },
  {
   "cell_type": "code",
   "execution_count": 138,
   "metadata": {},
   "outputs": [
    {
     "name": "stdout",
     "output_type": "stream",
     "text": [
      "Device: cpu\n"
     ]
    }
   ],
   "source": [
    "import networkx as nx\n",
    "from matplotlib import pyplot as plt\n",
    "from tqdm import tqdm\n",
    "from os.path import join as join_path\n",
    "import os\n",
    "from torch.utils.data import Dataset\n",
    "import kagglehub\n",
    "import pandas as pd\n",
    "from torch_geometric_temporal import DynamicGraphTemporalSignal, Data\n",
    "from functools import cache\n",
    "import torch\n",
    "\n",
    "\n",
    "device = torch.device('cuda' if torch.cuda.is_available() else 'cpu')\n",
    "print(\"Device:\", device)"
   ]
  },
  {
   "cell_type": "code",
   "execution_count": 4,
   "metadata": {},
   "outputs": [],
   "source": [
    "TARGET_GRAPH_DIR = \"graph_data/train/infotech_thresh1/\"\n",
    "FILTER_BY_WEIGHT_THRESH = 5"
   ]
  },
  {
   "cell_type": "markdown",
   "metadata": {},
   "source": [
    "## Node features"
   ]
  },
  {
   "cell_type": "code",
   "execution_count": 5,
   "metadata": {},
   "outputs": [],
   "source": [
    "dataset_path = kagglehub.dataset_download(\"dgawlik/nyse\")"
   ]
  },
  {
   "cell_type": "code",
   "execution_count": 87,
   "metadata": {},
   "outputs": [],
   "source": [
    "fundamentals_df = pd.read_csv(join_path(dataset_path,\"fundamentals.csv\"))\n",
    "prices_split_adjusted_df = pd.read_csv(join_path(dataset_path, \"prices-split-adjusted.csv\"))\n",
    "prices_df = pd.read_csv(join_path(dataset_path, \"prices.csv\"))\n",
    "securities_df = pd.read_csv(join_path(dataset_path, \"securities.csv\"))"
   ]
  },
  {
   "cell_type": "code",
   "execution_count": 162,
   "metadata": {},
   "outputs": [
    {
     "name": "stdout",
     "output_type": "stream",
     "text": [
      "Num of symbols: 501\n"
     ]
    }
   ],
   "source": [
    "all_symbols = prices_split_adjusted_df['symbol'].unique()\n",
    "\n",
    "@cache\n",
    "def symbol_to_int(symbol: str):\n",
    "    return all_symbols.tolist().index(symbol)\n",
    "\n",
    "@cache\n",
    "def int_to_symbol(idx):\n",
    "    return all_symbols[idx]\n",
    "\n",
    "print(\"Num of symbols:\", len(all_symbols))"
   ]
  },
  {
   "cell_type": "code",
   "execution_count": 89,
   "metadata": {},
   "outputs": [
    {
     "name": "stdout",
     "output_type": "stream",
     "text": [
      "[datetime.date(2010, 1, 4) datetime.date(2010, 1, 5)\n",
      " datetime.date(2010, 1, 6) ... datetime.date(2016, 12, 28)\n",
      " datetime.date(2016, 12, 29) datetime.date(2016, 12, 30)]\n"
     ]
    }
   ],
   "source": [
    "prices_split_adjusted_df['date'] = pd.to_datetime(prices_split_adjusted_df['date']).dt.date\n",
    "dates = prices_split_adjusted_df['date'].sort_values().unique()\n",
    "\n",
    "\n",
    "\n",
    "def any_to_date(date):\n",
    "    if not isinstance(date, pd._libs.tslibs.timestamps.Timestamp):\n",
    "        date = pd.to_datetime(date).date()\n",
    "    return date\n",
    "\n",
    "@cache\n",
    "def date_to_int(date):\n",
    "    date = any_to_date(date)\n",
    "    return dates.tolist().index(date)\n",
    "\n",
    "@cache\n",
    "def int_to_date(idx):\n",
    "    return dates[idx]\n",
    "\n",
    "print(dates)"
   ]
  },
  {
   "cell_type": "code",
   "execution_count": 120,
   "metadata": {},
   "outputs": [
    {
     "data": {
      "text/html": [
       "<div>\n",
       "<style scoped>\n",
       "    .dataframe tbody tr th:only-of-type {\n",
       "        vertical-align: middle;\n",
       "    }\n",
       "\n",
       "    .dataframe tbody tr th {\n",
       "        vertical-align: top;\n",
       "    }\n",
       "\n",
       "    .dataframe thead th {\n",
       "        text-align: right;\n",
       "    }\n",
       "</style>\n",
       "<table border=\"1\" class=\"dataframe\">\n",
       "  <thead>\n",
       "    <tr style=\"text-align: right;\">\n",
       "      <th></th>\n",
       "      <th>time</th>\n",
       "      <th>node</th>\n",
       "      <th>open</th>\n",
       "      <th>close</th>\n",
       "      <th>low</th>\n",
       "      <th>high</th>\n",
       "      <th>volume</th>\n",
       "      <th>day_diff</th>\n",
       "    </tr>\n",
       "  </thead>\n",
       "  <tbody>\n",
       "    <tr>\n",
       "      <th>251</th>\n",
       "      <td>0</td>\n",
       "      <td>1</td>\n",
       "      <td>22.453504</td>\n",
       "      <td>22.389128</td>\n",
       "      <td>22.267525</td>\n",
       "      <td>22.625180</td>\n",
       "      <td>3815500.0</td>\n",
       "      <td>-0.002867</td>\n",
       "    </tr>\n",
       "    <tr>\n",
       "      <th>252</th>\n",
       "      <td>0</td>\n",
       "      <td>2</td>\n",
       "      <td>4.840000</td>\n",
       "      <td>4.770000</td>\n",
       "      <td>4.660000</td>\n",
       "      <td>4.940000</td>\n",
       "      <td>9837300.0</td>\n",
       "      <td>-0.014463</td>\n",
       "    </tr>\n",
       "    <tr>\n",
       "      <th>253</th>\n",
       "      <td>0</td>\n",
       "      <td>3</td>\n",
       "      <td>40.700001</td>\n",
       "      <td>40.380001</td>\n",
       "      <td>40.360001</td>\n",
       "      <td>41.040001</td>\n",
       "      <td>1701700.0</td>\n",
       "      <td>-0.007862</td>\n",
       "    </tr>\n",
       "    <tr>\n",
       "      <th>254</th>\n",
       "      <td>0</td>\n",
       "      <td>4</td>\n",
       "      <td>30.490000</td>\n",
       "      <td>30.572857</td>\n",
       "      <td>30.340000</td>\n",
       "      <td>30.642857</td>\n",
       "      <td>123432400.0</td>\n",
       "      <td>0.002718</td>\n",
       "    </tr>\n",
       "    <tr>\n",
       "      <th>255</th>\n",
       "      <td>0</td>\n",
       "      <td>5</td>\n",
       "      <td>26.290001</td>\n",
       "      <td>26.629999</td>\n",
       "      <td>26.139999</td>\n",
       "      <td>26.690001</td>\n",
       "      <td>2455900.0</td>\n",
       "      <td>0.012933</td>\n",
       "    </tr>\n",
       "    <tr>\n",
       "      <th>256</th>\n",
       "      <td>0</td>\n",
       "      <td>6</td>\n",
       "      <td>26.000339</td>\n",
       "      <td>26.129884</td>\n",
       "      <td>25.870792</td>\n",
       "      <td>26.177866</td>\n",
       "      <td>10829000.0</td>\n",
       "      <td>0.004982</td>\n",
       "    </tr>\n",
       "    <tr>\n",
       "      <th>257</th>\n",
       "      <td>0</td>\n",
       "      <td>7</td>\n",
       "      <td>41.520000</td>\n",
       "      <td>42.070000</td>\n",
       "      <td>41.500000</td>\n",
       "      <td>42.200001</td>\n",
       "      <td>3650100.0</td>\n",
       "      <td>0.013247</td>\n",
       "    </tr>\n",
       "    <tr>\n",
       "      <th>258</th>\n",
       "      <td>0</td>\n",
       "      <td>8</td>\n",
       "      <td>36.650002</td>\n",
       "      <td>37.090000</td>\n",
       "      <td>36.650002</td>\n",
       "      <td>37.299999</td>\n",
       "      <td>4710200.0</td>\n",
       "      <td>0.012005</td>\n",
       "    </tr>\n",
       "    <tr>\n",
       "      <th>259</th>\n",
       "      <td>0</td>\n",
       "      <td>9</td>\n",
       "      <td>31.790001</td>\n",
       "      <td>31.670000</td>\n",
       "      <td>31.610001</td>\n",
       "      <td>32.189999</td>\n",
       "      <td>2102700.0</td>\n",
       "      <td>-0.003775</td>\n",
       "    </tr>\n",
       "    <tr>\n",
       "      <th>260</th>\n",
       "      <td>0</td>\n",
       "      <td>10</td>\n",
       "      <td>31.480000</td>\n",
       "      <td>31.469999</td>\n",
       "      <td>31.330000</td>\n",
       "      <td>31.840000</td>\n",
       "      <td>3472500.0</td>\n",
       "      <td>-0.000318</td>\n",
       "    </tr>\n",
       "  </tbody>\n",
       "</table>\n",
       "</div>"
      ],
      "text/plain": [
       "     time  node       open      close        low       high       volume  \\\n",
       "251     0     1  22.453504  22.389128  22.267525  22.625180    3815500.0   \n",
       "252     0     2   4.840000   4.770000   4.660000   4.940000    9837300.0   \n",
       "253     0     3  40.700001  40.380001  40.360001  41.040001    1701700.0   \n",
       "254     0     4  30.490000  30.572857  30.340000  30.642857  123432400.0   \n",
       "255     0     5  26.290001  26.629999  26.139999  26.690001    2455900.0   \n",
       "256     0     6  26.000339  26.129884  25.870792  26.177866   10829000.0   \n",
       "257     0     7  41.520000  42.070000  41.500000  42.200001    3650100.0   \n",
       "258     0     8  36.650002  37.090000  36.650002  37.299999    4710200.0   \n",
       "259     0     9  31.790001  31.670000  31.610001  32.189999    2102700.0   \n",
       "260     0    10  31.480000  31.469999  31.330000  31.840000    3472500.0   \n",
       "\n",
       "     day_diff  \n",
       "251 -0.002867  \n",
       "252 -0.014463  \n",
       "253 -0.007862  \n",
       "254  0.002718  \n",
       "255  0.012933  \n",
       "256  0.004982  \n",
       "257  0.013247  \n",
       "258  0.012005  \n",
       "259 -0.003775  \n",
       "260 -0.000318  "
      ]
     },
     "execution_count": 120,
     "metadata": {},
     "output_type": "execute_result"
    }
   ],
   "source": [
    "node_features_df = prices_split_adjusted_df.copy()\n",
    "node_features_df['day_diff'] = ((node_features_df['close']) - (o:=node_features_df['open'])) / o\n",
    "node_features_df['date'] = node_features_df['date'].apply(lambda x: date_to_int(x))\n",
    "node_features_df['symbol'] = node_features_df['symbol'].apply(lambda x: symbol_to_int(x))\n",
    "\n",
    "# rename symbol to node_id\n",
    "node_features_df = node_features_df.rename(columns={'symbol': 'node', 'date': 'time'})\n",
    "\n",
    "\n",
    "\n",
    "node_features_df.sort_values(['time', 'node'], inplace=True)\n",
    "node_features_df.head(10)\n"
   ]
  },
  {
   "cell_type": "markdown",
   "metadata": {},
   "source": [
    "## Graph"
   ]
  },
  {
   "cell_type": "code",
   "execution_count": 56,
   "metadata": {},
   "outputs": [],
   "source": [
    "graphs = [nx.read_weighted_edgelist(join_path(TARGET_GRAPH_DIR, fileName)) for fileName in os.listdir(TARGET_GRAPH_DIR)]"
   ]
  },
  {
   "cell_type": "code",
   "execution_count": 103,
   "metadata": {},
   "outputs": [
    {
     "name": "stdout",
     "output_type": "stream",
     "text": [
      "Total num of graphs: 1233\n",
      "Total num of edges: 2438163\n"
     ]
    }
   ],
   "source": [
    "print(\"Total num of graphs:\", len(graphs))\n",
    "print(\"Total num of edges:\", sum([graph.number_of_edges() for graph in graphs]))"
   ]
  },
  {
   "cell_type": "code",
   "execution_count": 164,
   "metadata": {},
   "outputs": [],
   "source": [
    "torch_graphs = []\n",
    "for time, nx_graph in enumerate(graphs):\n",
    "    today_node_features_df = node_features_df[node_features_df['time'] == time].set_index('node', inplace=False)\n",
    "    tomorrow_node_features_df = node_features_df[node_features_df['time'] == time + 1].set_index('node', inplace=False)\n",
    "\n",
    "    today_node_features_df = today_node_features_df.reindex(range(len(all_symbols)), fill_value=0.0)\n",
    "    tomorrow_node_features_df = tomorrow_node_features_df.reindex(range(len(all_symbols)), fill_value=0.0)\n",
    "\n",
    "    today_node_features_df = today_node_features_df.drop(columns=['time'])\n",
    "\n",
    "    y = tomorrow_node_features_df['day_diff'].values\n",
    "    y = torch.tensor(y, device=device, dtype=torch.float)\n",
    "\n",
    "    # convert to torch\n",
    "    edges_data = pd.DataFrame.from_dict(nx_graph.edges.data())\n",
    "\n",
    "    edges_data[0] = edges_data[0].apply(lambda x: symbol_to_int(x))\n",
    "    edges_data[1] = edges_data[1].apply(lambda x: symbol_to_int(x))\n",
    "    edges_data[2] = edges_data[2].apply(lambda x: x['weight'])\n",
    "\n",
    "    # Filter by weight\n",
    "    edges_data = edges_data[edges_data[2] > FILTER_BY_WEIGHT_THRESH]\n",
    "    \n",
    "    edge_index = edges_data.loc[:,0:1].values\n",
    "    edge_index = torch.tensor(edge_index, dtype=torch.long, device=device).t().contiguous()\n",
    "\n",
    "    edge_weight = edges_data.loc[:,2].values\n",
    "    edge_weight = torch.tensor(edge_weight, dtype=torch.float, device=device)\n",
    "\n",
    "    torch_graph = Data(x=today_node_features_df, edge_index=edge_index, edge_attr=edge_weight, y=y,)\n",
    "    torch_graphs.append(torch_graph)"
   ]
  },
  {
   "cell_type": "markdown",
   "metadata": {},
   "source": [
    "## Dataset"
   ]
  },
  {
   "cell_type": "code",
   "execution_count": 165,
   "metadata": {},
   "outputs": [
    {
     "name": "stdout",
     "output_type": "stream",
     "text": [
      "Graphs len: 1233\n"
     ]
    }
   ],
   "source": [
    "print(\"Graphs len:\", len(torch_graphs))\n",
    "# print(\"Node features len:\", len(torch_node_features))"
   ]
  },
  {
   "cell_type": "code",
   "execution_count": 141,
   "metadata": {},
   "outputs": [],
   "source": [
    "# dataset = DynamicGraphTemporalSignal(\n",
    "#     [tg.edge_index for tg in torch_graphs],\n",
    "#     [tg.edge_attr for tg in torch_graphs],\n",
    "#     [tg.x for tg in torch_graphs],\n",
    "#     [tg.y for tg in torch_graphs],\n",
    "# )"
   ]
  },
  {
   "cell_type": "code",
   "execution_count": 166,
   "metadata": {},
   "outputs": [],
   "source": [
    "from torch.utils.data import Dataset\n",
    "\n",
    "class NYSEDataset(Dataset):\n",
    "    def __init__(self, torch_graphs):\n",
    "        self.graphs = torch_graphs\n",
    "\n",
    "    def __len__(self):\n",
    "        return len(self.graphs)\n",
    "\n",
    "    def __getitem__(self, idx):\n",
    "        return self.graphs[idx]\n",
    "\n",
    "\n",
    "dataset = NYSEDataset(torch_graphs)"
   ]
  },
  {
   "cell_type": "code",
   "execution_count": 179,
   "metadata": {},
   "outputs": [
    {
     "name": "stdout",
     "output_type": "stream",
     "text": [
      "Data(edge_index=[2, 740], edge_attr=[740], y=[501])\n",
      "Data(edge_index=[2, 645], edge_attr=[645], y=[501])\n",
      "Data(edge_index=[2, 738], edge_attr=[738], y=[501])\n",
      "Data(edge_index=[2, 997], edge_attr=[997], y=[501])\n",
      "Data(edge_index=[2, 819], edge_attr=[819], y=[501])\n",
      "Data(edge_index=[2, 925], edge_attr=[925], y=[501])\n",
      "Data(edge_index=[2, 573], edge_attr=[573], y=[501])\n",
      "Data(edge_index=[2, 696], edge_attr=[696], y=[501])\n",
      "Data(edge_index=[2, 802], edge_attr=[802], y=[501])\n",
      "Data(edge_index=[2, 634], edge_attr=[634], y=[501])\n",
      "Data(edge_index=[2, 775], edge_attr=[775], y=[501])\n"
     ]
    }
   ],
   "source": [
    "for time, snapshot in enumerate(dataset):\n",
    "    print(snapshot)\n",
    "\n",
    "    if time == 10:\n",
    "        break"
   ]
  },
  {
   "cell_type": "code",
   "execution_count": 27,
   "metadata": {},
   "outputs": [
    {
     "name": "stdout",
     "output_type": "stream",
     "text": [
      "Total num of edges after weight filter: 907564\n"
     ]
    }
   ],
   "source": [
    "print(\"Total num of edges after weight filter:\", sum([graph.number_of_edges() for graph in graphs]))"
   ]
  },
  {
   "cell_type": "code",
   "execution_count": null,
   "metadata": {},
   "outputs": [],
   "source": [
    "import torch\n",
    "import torch.nn.functional as F\n",
    "import torch_geometric.\n",
    "from torch_geometric_temporal.nn.recurrent import GCLSTM\n",
    "\n",
    "class RecurrentGCN(torch.nn.Module):\n",
    "\n",
    "    def __init__(self, node_features, num_classes):\n",
    "        super(RecurrentGCN, self).__init__()\n",
    "        self.recurrent_1 = GCLSTM(node_features, 32, 5)\n",
    "        self.recurrent_2 = GCLSTM(32, 16, 5)\n",
    "        self.linear = torch.nn.Linear(16, num_classes)\n",
    "\n",
    "    def forward(self, x, edge_index, edge_weight):\n",
    "        x = self.recurrent_1(x, edge_index, edge_weight)\n",
    "        x = F.relu(x)\n",
    "        x = F.dropout(x, training=self.training)\n",
    "        x = self.recurrent_2(x, edge_index, edge_weight)\n",
    "        x = F.relu(x)\n",
    "        x = F.dropout(x, training=self.training)\n",
    "        x = self.linear(x)\n",
    "        return F.log_softmax(x, dim=1)"
   ]
  }
 ],
 "metadata": {
  "kernelspec": {
   "display_name": "cloudspace",
   "language": "python",
   "name": "python3"
  },
  "language_info": {
   "codemirror_mode": {
    "name": "ipython",
    "version": 3
   },
   "file_extension": ".py",
   "mimetype": "text/x-python",
   "name": "python",
   "nbconvert_exporter": "python",
   "pygments_lexer": "ipython3",
   "version": "3.10.10"
  }
 },
 "nbformat": 4,
 "nbformat_minor": 2
}
