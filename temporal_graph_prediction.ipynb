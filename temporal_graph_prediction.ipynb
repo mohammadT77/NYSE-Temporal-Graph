{
 "cells": [
  {
   "cell_type": "code",
   "execution_count": 2,
   "metadata": {},
   "outputs": [],
   "source": [
    "# !pip install -q kagglehub numpy pandas networkx matplotlib torch torch-geometric==2.4.0 torch-geometric-temporal"
   ]
  },
  {
   "cell_type": "code",
   "execution_count": 3,
   "metadata": {},
   "outputs": [],
   "source": [
    "# !pip install -q torch-geometric==2.6.1"
   ]
  },
  {
   "cell_type": "code",
   "execution_count": 1,
   "metadata": {},
   "outputs": [
    {
     "name": "stdout",
     "output_type": "stream",
     "text": [
      "/teamspace/studios/this_studio/NYSE-Temporal-Graph-Construction\n"
     ]
    },
    {
     "name": "stderr",
     "output_type": "stream",
     "text": [
      "/home/zeus/miniconda3/envs/cloudspace/lib/python3.10/site-packages/IPython/core/magics/osm.py:417: UserWarning: using dhist requires you to install the `pickleshare` library.\n",
      "  self.shell.db['dhist'] = compress_dhist(dhist)[-100:]\n"
     ]
    }
   ],
   "source": [
    "%cd NYSE-Temporal-Graph-Construction"
   ]
  },
  {
   "cell_type": "code",
   "execution_count": 2,
   "metadata": {},
   "outputs": [
    {
     "name": "stdout",
     "output_type": "stream",
     "text": [
      "Device: cuda\n"
     ]
    }
   ],
   "source": [
    "import networkx as nx\n",
    "from matplotlib import pyplot as plt\n",
    "from tqdm import tqdm, trange\n",
    "from os.path import join as join_path\n",
    "import os\n",
    "from torch.utils.data import Dataset\n",
    "import kagglehub\n",
    "import pandas as pd\n",
    "from torch_geometric_temporal import DynamicGraphTemporalSignal, Data\n",
    "from functools import cache\n",
    "import torch\n",
    "import numpy as np\n",
    "\n",
    "\n",
    "device = torch.device('cuda' if torch.cuda.is_available() else 'cpu')\n",
    "print(\"Device:\", device)"
   ]
  },
  {
   "cell_type": "code",
   "execution_count": 3,
   "metadata": {},
   "outputs": [],
   "source": [
    "TARGET_GRAPH_DIR = \"graph_data/train/infotech_thresh1\"\n",
    "TARGET_SECTORS = ['Information Technology']\n",
    "FILTER_BY_WEIGHT_THRESH = 5\n",
    "TRAINING_EPOCHS = 50\n",
    "TRAIN_SPLIT = 0.8\n",
    "VAL_SPLIT = 0.1\n",
    "EMBED_DIM = 32"
   ]
  },
  {
   "cell_type": "markdown",
   "metadata": {},
   "source": [
    "## Node features"
   ]
  },
  {
   "cell_type": "code",
   "execution_count": 4,
   "metadata": {},
   "outputs": [
    {
     "name": "stdout",
     "output_type": "stream",
     "text": [
      "Warning: Looks like you're using an outdated `kagglehub` version, please consider updating (latest version: 0.3.6)\n"
     ]
    }
   ],
   "source": [
    "dataset_path = kagglehub.dataset_download(\"dgawlik/nyse\")"
   ]
  },
  {
   "cell_type": "code",
   "execution_count": 5,
   "metadata": {},
   "outputs": [],
   "source": [
    "fundamentals_df = pd.read_csv(join_path(dataset_path,\"fundamentals.csv\"))\n",
    "prices_split_adjusted_df = pd.read_csv(join_path(dataset_path, \"prices-split-adjusted.csv\"))\n",
    "prices_df = pd.read_csv(join_path(dataset_path, \"prices.csv\"))\n",
    "securities_df = pd.read_csv(join_path(dataset_path, \"securities.csv\"))"
   ]
  },
  {
   "cell_type": "code",
   "execution_count": 6,
   "metadata": {},
   "outputs": [
    {
     "name": "stdout",
     "output_type": "stream",
     "text": [
      "Num of all symbols: 501\n",
      "Num of target symbols: 68\n"
     ]
    }
   ],
   "source": [
    "all_symbols = prices_split_adjusted_df['symbol'].sort_values().unique()\n",
    "\n",
    "def get_symbol_by_sector(sector):\n",
    "    return securities_df[securities_df['GICS Sector'] == sector]['Ticker symbol'].to_list()\n",
    "\n",
    "target_symbols = prices_split_adjusted_df['symbol'].sort_values().unique()\n",
    "\n",
    "target_symbols = []\n",
    "for sector in TARGET_SECTORS:\n",
    "    target_symbols += get_symbol_by_sector(sector)\n",
    "\n",
    "target_symbols.sort()\n",
    "    \n",
    "@cache\n",
    "def symbol_to_int(symbol: str):\n",
    "    if symbol not in target_symbols:\n",
    "        return -1\n",
    "    return target_symbols.index(symbol)\n",
    "\n",
    "@cache\n",
    "def int_to_symbol(idx):\n",
    "    idx = int(idx)\n",
    "    return target_symbols[idx]\n",
    "\n",
    "\n",
    "print(\"Num of all symbols:\", len(all_symbols))\n",
    "print(\"Num of target symbols:\", len(target_symbols))"
   ]
  },
  {
   "cell_type": "code",
   "execution_count": 7,
   "metadata": {},
   "outputs": [
    {
     "name": "stdout",
     "output_type": "stream",
     "text": [
      "[datetime.date(2010, 1, 4) datetime.date(2010, 1, 5)\n",
      " datetime.date(2010, 1, 6) ... datetime.date(2016, 12, 28)\n",
      " datetime.date(2016, 12, 29) datetime.date(2016, 12, 30)]\n"
     ]
    }
   ],
   "source": [
    "prices_split_adjusted_df['date'] = pd.to_datetime(prices_split_adjusted_df['date']).dt.date\n",
    "dates = prices_split_adjusted_df['date'].sort_values().unique()\n",
    "\n",
    "@cache\n",
    "def any_to_date(date):\n",
    "    if not isinstance(date, pd._libs.tslibs.timestamps.Timestamp):\n",
    "        date = pd.to_datetime(date).date()\n",
    "    return date\n",
    "\n",
    "@cache\n",
    "def date_to_int(date):\n",
    "    date = any_to_date(date)\n",
    "    return dates.tolist().index(date)\n",
    "\n",
    "@cache\n",
    "def int_to_date(idx):\n",
    "    return dates[idx]\n",
    "\n",
    "print(dates)"
   ]
  },
  {
   "cell_type": "code",
   "execution_count": 8,
   "metadata": {},
   "outputs": [
    {
     "data": {
      "text/plain": [
       "<Axes: ylabel='Frequency'>"
      ]
     },
     "execution_count": 8,
     "metadata": {},
     "output_type": "execute_result"
    },
    {
     "data": {
      "image/png": "[encoded data removed]",
      "text/plain": [
       "<Figure size 640x480 with 1 Axes>"
      ]
     },
     "metadata": {},
     "output_type": "display_data"
    }
   ],
   "source": [
    "node_features_df = prices_split_adjusted_df.copy()\n",
    "node_features_df = node_features_df[node_features_df['symbol'].isin(target_symbols)]\n",
    "node_features_df['day_diff'] = ((node_features_df['close']) - (o:=node_features_df['open'])) / o * 100\n",
    "node_features_df['date'] = node_features_df['date'].apply(lambda x: date_to_int(x))\n",
    "node_features_df['symbol'] = node_features_df['symbol'].apply(lambda x: symbol_to_int(x))\n",
    "\n",
    "# Drop rows with symbol -1:\n",
    "node_features_df = node_features_df[node_features_df['symbol'] != -1]\n",
    "\n",
    "# rename symbol to node_id\n",
    "node_features_df = node_features_df.rename(columns={'symbol': 'node', 'date': 'time'})\n",
    "\n",
    "lower_bound = node_features_df['day_diff'].quantile(0.01)  # 1st percentile\n",
    "upper_bound = node_features_df['day_diff'].quantile(0.99)  # 99th percentile\n",
    "\n",
    "node_features_df['day_diff'] = node_features_df['day_diff'].clip(lower=lower_bound, upper=upper_bound)\n",
    "\n",
    "\n",
    "\n",
    "node_features_df.sort_values(['time', 'node'], inplace=True)\n",
    "# node_features_df.head(10)\n",
    "node_features_df['day_diff'].describe()\n",
    "node_features_df['day_diff'].plot.hist(bins=1000)\n"
   ]
  },
  {
   "cell_type": "markdown",
   "metadata": {},
   "source": [
    "## Graph"
   ]
  },
  {
   "cell_type": "code",
   "execution_count": 9,
   "metadata": {},
   "outputs": [],
   "source": [
    "get_date = lambda filename: filename.split(\"_\")[1].removesuffix(\".edgelist\")\n",
    "get_nx_graph = lambda fileName: nx.read_weighted_edgelist(join_path(TARGET_GRAPH_DIR, fileName))\n",
    "\n",
    "nx_graph_snapshots = [(get_date(fileName), get_nx_graph(fileName)) for fileName in os.listdir(TARGET_GRAPH_DIR)]"
   ]
  },
  {
   "cell_type": "code",
   "execution_count": 10,
   "metadata": {},
   "outputs": [
    {
     "name": "stdout",
     "output_type": "stream",
     "text": [
      "Total num of graphs: 1233\n",
      "Total num of edges: 2438163\n"
     ]
    }
   ],
   "source": [
    "print(\"Total num of graphs:\", len(nx_graph_snapshots))\n",
    "print(\"Total num of edges:\", sum([graph.number_of_edges() for _, graph in nx_graph_snapshots]))"
   ]
  },
  {
   "cell_type": "code",
   "execution_count": 11,
   "metadata": {},
   "outputs": [],
   "source": [
    "torch_graphs = []\n",
    "for date, nx_graph in nx_graph_snapshots:\n",
    "    time = date_to_int(date)\n",
    "    \n",
    "    today_node_features_df = node_features_df[node_features_df['time'] == time].set_index('node', inplace=False)\n",
    "\n",
    "    tomorrow_node_features_df = node_features_df[node_features_df['time'] == time + 1].set_index('node', inplace=False)\n",
    "\n",
    "    today_node_features_df = today_node_features_df.reindex(range(len(target_symbols)), fill_value=0.0)\n",
    "    tomorrow_node_features_df = tomorrow_node_features_df.reindex(range(len(target_symbols)), fill_value=0.0)\n",
    "    \n",
    "    today_node_features_df = today_node_features_df.drop(columns=['time'])\n",
    "\n",
    "    y = tomorrow_node_features_df['day_diff'].values\n",
    "    y = torch.tensor(y, device=device, dtype=torch.float)\n",
    "\n",
    "    # convert to torch\n",
    "    edges_data = pd.DataFrame.from_dict(nx_graph.edges.data())\n",
    "\n",
    "    edges_data[0] = edges_data[0].apply(symbol_to_int)\n",
    "    edges_data[1] = edges_data[1].apply(symbol_to_int)\n",
    "    edges_data[2] = edges_data[2].apply(lambda x: x['weight'])\n",
    "\n",
    "    # Filter by weight\n",
    "    edges_data = edges_data[edges_data[2] > FILTER_BY_WEIGHT_THRESH]\n",
    "\n",
    "    x = torch.tensor(today_node_features_df.values, dtype=torch.float32, device=device)\n",
    "    \n",
    "    edge_index = edges_data.loc[:,0:1].values\n",
    "    edge_index = torch.tensor(edge_index, dtype=torch.long, device=device).t().contiguous()\n",
    "\n",
    "    edge_weight = edges_data.loc[:,2].values\n",
    "    edge_weight = torch.tensor(edge_weight, dtype=torch.float, device=device)\n",
    "\n",
    "    torch_graph = Data(x=x, edge_index=edge_index, edge_attr=edge_weight, y=y)\n",
    "    torch_graphs.append(torch_graph)"
   ]
  },
  {
   "cell_type": "code",
   "execution_count": 12,
   "metadata": {},
   "outputs": [
    {
     "name": "stdout",
     "output_type": "stream",
     "text": [
      "tensor([-0.1025,  0.5463,  1.7819, -0.1579, -0.1172,  0.3191, -1.3271,  2.8516,\n",
      "        -0.3511, -1.9403,  0.7117,  0.2638,  1.0587,  0.0672, -0.0813,  0.0000,\n",
      "         1.0893,  0.2104,  1.9115, -0.5885,  0.0000, -1.4264,  3.5431,  0.7919,\n",
      "         0.0918,  1.4546, -1.1083, -0.5086, -0.5086,  0.1143,  0.0000,  1.0165,\n",
      "        -0.7239, -0.6303, -0.3343,  0.1625, -1.5096, -0.9227, -0.1612, -0.4524,\n",
      "        -0.6826, -1.7112,  0.3566, -1.1321,  2.8545, -3.8454, -1.4956,  1.8458,\n",
      "         0.4045, -0.1621,  0.0000,  1.1574,  0.0000, -0.6416, -1.8028,  1.0745,\n",
      "        -0.5435,  0.3237, -1.2019,  0.1163, -0.3468, -0.1947,  0.8471,  2.4476,\n",
      "        -0.7311, -1.0659,  0.1159,  0.0581], device='cuda:0')\n"
     ]
    }
   ],
   "source": [
    "print(torch_graphs[0].y)"
   ]
  },
  {
   "cell_type": "markdown",
   "metadata": {},
   "source": [
    "## Dataset"
   ]
  },
  {
   "cell_type": "code",
   "execution_count": 13,
   "metadata": {},
   "outputs": [
    {
     "name": "stdout",
     "output_type": "stream",
     "text": [
      "Graphs len: 1233\n"
     ]
    }
   ],
   "source": [
    "print(\"Graphs len:\", len(torch_graphs))\n",
    "# print(\"Node features len:\", len(torch_node_features))"
   ]
  },
  {
   "cell_type": "code",
   "execution_count": 14,
   "metadata": {},
   "outputs": [],
   "source": [
    "# dataset = DynamicGraphTemporalSignal(\n",
    "#     [tg.edge_index for tg in torch_graphs],\n",
    "#     [tg.edge_attr for tg in torch_graphs],\n",
    "#     [tg.x for tg in torch_graphs],\n",
    "#     [tg.y for tg in torch_graphs],\n",
    "# )"
   ]
  },
  {
   "cell_type": "code",
   "execution_count": 15,
   "metadata": {},
   "outputs": [
    {
     "data": {
      "text/plain": [
       "[DataBatch(x=[2176, 6], edge_index=[2, 23037], edge_attr=[23037], y=[2176], batch=[2176], ptr=[33]),\n",
       " DataBatch(x=[2176, 6], edge_index=[2, 23247], edge_attr=[23247], y=[2176], batch=[2176], ptr=[33])]"
      ]
     },
     "execution_count": 15,
     "metadata": {},
     "output_type": "execute_result"
    }
   ],
   "source": [
    "\n",
    "from torch_geometric.loader import DataLoader\n",
    "\n",
    "class NYSEDataset(torch.utils.data.Dataset):\n",
    "    def __init__(self, graphs, window_size=2):\n",
    "        self.graphs = graphs\n",
    "        self.window_size = window_size\n",
    "\n",
    "    def __len__(self):\n",
    "        return len(self.graphs) - self.window_size\n",
    "\n",
    "    def __getitem__(self, idx):\n",
    "        if idx >= len(self):\n",
    "            raise StopIteration\n",
    "        if idx < 0:\n",
    "            idx = len(self) + idx\n",
    "        return self.graphs[idx:idx + self.window_size]  # 3 snapshots\n",
    "\n",
    "\n",
    "dataset = NYSEDataset(torch_graphs)\n",
    "loader = DataLoader(dataset, batch_size=32,shuffle=True)\n",
    "\n",
    "next(iter(loader))"
   ]
  },
  {
   "cell_type": "code",
   "execution_count": 16,
   "metadata": {},
   "outputs": [
    {
     "name": "stdout",
     "output_type": "stream",
     "text": [
      "Arch:\n",
      " Predictor(\n",
      "  (recurrent): GConvGRU(\n",
      "    (conv_x_z): ChebConv(6, 32, K=10, normalization=sym)\n",
      "    (conv_h_z): ChebConv(32, 32, K=10, normalization=sym)\n",
      "    (conv_x_r): ChebConv(6, 32, K=10, normalization=sym)\n",
      "    (conv_h_r): ChebConv(32, 32, K=10, normalization=sym)\n",
      "    (conv_x_h): ChebConv(6, 32, K=10, normalization=sym)\n",
      "    (conv_h_h): ChebConv(32, 32, K=10, normalization=sym)\n",
      "  )\n",
      "  (decoder): GraphDecoder(\n",
      "    (fc1): Linear(in_features=32, out_features=64, bias=True)\n",
      "    (fc2): Linear(in_features=64, out_features=32, bias=True)\n",
      "    (fc3): Linear(in_features=32, out_features=1, bias=True)\n",
      "  )\n",
      ")\n",
      "Num params: 40897\n"
     ]
    }
   ],
   "source": [
    "from torch_geometric_temporal.nn.recurrent import GConvGRU, GCLSTM\n",
    "import torch.nn.functional as F\n",
    "import torch.nn as nn\n",
    "from torch_geometric.nn import GCN, GCNConv\n",
    "\n",
    "\n",
    "class GraphEmbedder(GCN):\n",
    "    \"\"\"Embedder to extract node embeddings from a graph snapshot.\"\"\"\n",
    "    def __init__(self, input_dim, embed_dim):\n",
    "        super(GraphEmbedder, self).__init__(input_dim, embed_dim, 1, embed_dim)\n",
    "        # super(GraphEmbedder, self).__init__()\n",
    "        # self.gcn1 = GCN(input_dim, embed_dim,)\n",
    "        # # self.gcn2 = GCNConv(embed_dim, embed_dim)\n",
    "\n",
    "    # def forward(self, x, edge_index, edge_weight=None):\n",
    "    #     print(x.shape, edge_index.shape, edge_weight.shape)\n",
    "    #     x = self.gcn1(x, edge_index, edge_weight)\n",
    "    #     # x = torch.relu(x)\n",
    "    #     # x = self.gcn2(x, edge_index, edge_weight)\n",
    "    #     return x  # Returns node embeddings\n",
    "\n",
    "class GraphRecEncoder(nn.Module):\n",
    "    \"\"\"Recurrent module to update node embeddings.\"\"\"\n",
    "    def __init__(self, input_dim, output_dim):\n",
    "        super(GraphRecEncoder, self).__init__()\n",
    "        self.gru = nn.GRUCell(input_dim, output_dim)\n",
    "\n",
    "    def forward(self, embeddings, hidden_state=None):\n",
    "        if hidden_state is None:\n",
    "            hidden_state = torch.zeros_like(embeddings)\n",
    "        new_state = self.gru(embeddings, hidden_state)\n",
    "        return new_state  # Updated embeddings (new hidden state)\n",
    "\n",
    "class GraphDecoder(nn.Module):\n",
    "    \"\"\"Decoder to predict values based on final node embeddings.\"\"\"\n",
    "    def __init__(self, embed_dim):\n",
    "        super(GraphDecoder, self).__init__()\n",
    "        self.fc1 = nn.Linear(embed_dim, embed_dim*2)\n",
    "        self.fc2 = nn.Linear(embed_dim*2, embed_dim)\n",
    "        self.fc3 = nn.Linear(embed_dim, 1)\n",
    "\n",
    "    def forward(self, embeddings):\n",
    "        x = torch.relu(self.fc1(embeddings))\n",
    "        x = self.fc2(x)\n",
    "        x = self.fc3(x)\n",
    "        return x  # Prediction for each node\n",
    "\n",
    "class Predictor(nn.Module):\n",
    "    def __init__(self, embed_dim=EMBED_DIM, input_dim=6):\n",
    "        super(Predictor, self).__init__()\n",
    "        # self.embedder = GCN(input_dim, embed_dim, 1, embed_dim)\n",
    "        # self.encoder = GraphRecEncoder(embed_dim, embed_dim)\n",
    "        self.recurrent = GConvGRU(input_dim, embed_dim, 10)\n",
    "        self.decoder = GraphDecoder(embed_dim)\n",
    "\n",
    "    def forward(self, snapshots):\n",
    "        prev_emb = None\n",
    "        for graph in snapshots:\n",
    "            # emb = self.embedder(graph.x, graph.edge_index, graph.edge_attr)\n",
    "            # emb = self.encoder(emb, prev_emb) # Recurrent\n",
    "            # prev_emb = emb\n",
    "            prev_emb = self.recurrent(graph.x, graph.edge_index, graph.edge_attr, prev_emb)\n",
    "            \n",
    "        return self.decoder(prev_emb)\n",
    "\n",
    "\n",
    "\n",
    "print(\"Arch:\\n\",_m:=Predictor())\n",
    "print(\"Num params:\", sum(p.numel() for p in _m.parameters()))\n"
   ]
  },
  {
   "cell_type": "markdown",
   "metadata": {},
   "source": [
    "## Training"
   ]
  },
  {
   "cell_type": "code",
   "execution_count": null,
   "metadata": {},
   "outputs": [
    {
     "name": "stderr",
     "output_type": "stream",
     "text": [
      "Epoch 1:  11%|█▏        | 140/1231 [00:57<07:25,  2.45it/s, loss=1.93, total_loss=258]\n",
      "\n",
      "\u001b[A                                              "
     ]
    },
    {
     "name": "stderr",
     "output_type": "stream",
     "text": [
      "Epoch 1: 100%|█████████▉| 1230/1231 [01:19<00:00, 15.52it/s, loss=3.97, total_loss=2.51e+3]\n",
      "Epoch 2: 100%|█████████▉| 1230/1231 [01:17<00:00, 15.90it/s, loss=3.97, total_loss=2.51e+3] \n",
      "Epoch 3: 100%|█████████▉| 1230/1231 [01:16<00:00, 16.17it/s, loss=3.97, total_loss=2.5e+3]  \n",
      "Epoch 4: 100%|█████████▉| 1230/1231 [01:13<00:00, 16.71it/s, loss=3.98, total_loss=2.5e+3]  \n",
      "Epoch 5: 100%|█████████▉| 1230/1231 [01:14<00:00, 16.47it/s, loss=3.98, total_loss=2.5e+3]  \n",
      "Epoch 6: 100%|█████████▉| 1230/1231 [01:13<00:00, 16.80it/s, loss=3.98, total_loss=2.5e+3]  \n",
      "Epoch 7: 100%|█████████▉| 1230/1231 [01:14<00:00, 16.47it/s, loss=3.98, total_loss=2.5e+3]  \n",
      "Epoch 8: 100%|█████████▉| 1230/1231 [01:14<00:00, 16.49it/s, loss=3.98, total_loss=2.5e+3]  \n",
      "Epoch 9: 100%|█████████▉| 1230/1231 [01:17<00:00, 16.67it/s, loss=0.8, total_loss=2.5e+3]   "
     ]
    }
   ],
   "source": [
    "model = Predictor().to(device)\n",
    "optimizer = torch.optim.Adam(model.parameters(), lr=0.0001)\n",
    "criterion = torch.nn.MSELoss()\n",
    "\n",
    "\n",
    "TRAINING_EPOCHS = 1000\n",
    "for epoch in range(TRAINING_EPOCHS):\n",
    "    total_loss = 0\n",
    "    model.train(True)\n",
    "    pbar = tqdm(dataset, desc=\"Epoch {}\".format(epoch + 1))\n",
    "    pbar.clear()\n",
    "    for i,snapshots in enumerate(dataset):\n",
    "        optimizer.zero_grad()\n",
    "        pred = model(snapshots)\n",
    "        true_y = snapshots[-1].y\n",
    "        loss = criterion(pred.squeeze(), true_y)\n",
    "    \n",
    "\n",
    "        loss.backward()\n",
    "        optimizer.step()\n",
    "        for name, param in model.named_parameters():\n",
    "            if param.grad is None:\n",
    "                print(f\"No gradient for {name}\")\n",
    "\n",
    "        total_loss += loss.item()\n",
    "        \n",
    "        pbar.set_postfix(loss=loss.item(), total_loss=total_loss)\n",
    "        if (i + 1) % 10 == 0:\n",
    "            pbar.update(10)\n",
    "\n",
    "    pbar.close()\n",
    "    \n",
    "    torch.save(model.state_dict(), f\"weights/temporal_link_prediction_e{epoch+1}_model.pt\")\n",
    "\n",
    "torch.save(model.state_dict(), \"weights/temporal_link_prediction_last_model.pt\")\n",
    "\n",
    "    "
   ]
  },
  {
   "cell_type": "code",
   "execution_count": null,
   "metadata": {},
   "outputs": [
    {
     "name": "stdout",
     "output_type": "stream",
     "text": [
      "torch.Size([60])\n",
      "tensor([-0.0748,  0.0994,  0.1127,  0.0637,  0.1005,  0.0991,  0.0963,  0.0241,\n",
      "         0.0261,  0.0941, -0.0601,  0.0280,  0.0003, -0.0086,  0.0227,  0.0011,\n",
      "         0.0420, -0.0430,  0.0222,  0.1496,  0.0222,  0.0320,  0.1129,  0.0516,\n",
      "         0.0222,  0.0558,  0.0874, -0.0101,  0.1060,  0.0245,  0.0011,  0.0500,\n",
      "         0.0742,  0.0662, -0.0256,  0.0994,  0.0442,  0.0046,  0.0654,  0.0678,\n",
      "         0.0226,  0.0847, -0.0103,  0.0419,  0.0402,  0.0163,  0.0024,  0.0222,\n",
      "         0.0192, -0.0010,  0.0011, -0.0103,  0.0011, -0.0152,  0.0214,  0.0461,\n",
      "         0.0416, -0.0152,  0.0431,  0.0522,  0.0298,  0.0096,  0.0861,  0.1085,\n",
      "         0.0566,  0.0823, -0.0420,  0.0074], device='cuda:0',\n",
      "       grad_fn=<SqueezeBackward0>)\n",
      "tensor([-0.4906, -0.6731, -1.5615,  0.1577,  0.2718, -2.3323, -0.6586, -1.1814,\n",
      "         0.6359,  0.1990,  4.1646, -1.3875, -0.0678, -2.4753,  0.6602,  0.0000,\n",
      "         0.1704,  1.6396,  4.2580, -0.4919, -2.3481, -2.0386, -0.4448,  0.2926,\n",
      "        -1.9756, -4.1989,  0.8696, -1.1303, -1.0033,  1.0008,  0.0000, -0.0618,\n",
      "         1.2989, -0.0211,  0.4189, -0.2416,  0.3253,  0.9793,  0.2252,  0.3884,\n",
      "        -0.0812,  0.8604,  0.5099,  1.3281, -1.0116, -1.7140, -1.9494,  0.1096,\n",
      "        -0.2187, -0.8821,  0.0000, -0.4892,  0.0000, -0.1434, -0.8725, -1.1082,\n",
      "         0.5470, -0.9908,  0.3606, -0.5832,  0.5515,  0.8164, -0.2308, -0.7620,\n",
      "         0.4321,  0.9399,  0.5952, -4.1989], device='cuda:0')\n"
     ]
    },
    {
     "name": "stderr",
     "output_type": "stream",
     "text": [
      "Epoch 1:  11%|█▏        | 140/1231 [00:29<01:16, 14.31it/s, loss=1.93, total_loss=258]"
     ]
    }
   ],
   "source": [
    "# Load model\n",
    "model = Predictor().to(device)\n",
    "model.load_state_dict(torch.load(\"temporal_link_prediction_e10_model.pt\"))\n",
    "\n",
    "dict(model.named_parameters())\n",
    "d = dataset[100]\n",
    "print(model(d).unique().shape)\n",
    "print(model(d).squeeze())\n",
    "print(d[-1].y)\n",
    "    "
   ]
  },
  {
   "cell_type": "code",
   "execution_count": 15,
   "metadata": {},
   "outputs": [],
   "source": [
    "import torch\n",
    "import torch.nn.functional as F\n",
    "\n",
    "from torch_geometric_temporal.nn.recurrent import GCLSTM\n",
    "\n",
    "class RecurrentGCN(torch.nn.Module):\n",
    "\n",
    "    def __init__(self, node_features, num_classes):\n",
    "        super(RecurrentGCN, self).__init__()\n",
    "        self.recurrent_1 = GCLSTM(node_features, 32, 5)\n",
    "        self.recurrent_2 = GCLSTM(32, 16, 5)\n",
    "        self.linear = torch.nn.Linear(16, num_classes)\n",
    "\n",
    "    def forward(self, x, edge_index, edge_weight):\n",
    "        x = self.recurrent_1(x, edge_index, edge_weight)\n",
    "        x = F.relu(x)\n",
    "        x = F.dropout(x, training=self.training)\n",
    "        x = self.recurrent_2(x, edge_index, edge_weight)\n",
    "        x = F.relu(x)\n",
    "        x = F.dropout(x, training=self.training)\n",
    "        x = self.linear(x)\n",
    "        return F.log_softmax(x, dim=1)\n"
   ]
  }
 ],
 "metadata": {
  "kernelspec": {
   "display_name": "cloudspace",
   "language": "python",
   "name": "python3"
  },
  "language_info": {
   "codemirror_mode": {
    "name": "ipython",
    "version": 3
   },
   "file_extension": ".py",
   "mimetype": "text/x-python",
   "name": "python",
   "nbconvert_exporter": "python",
   "pygments_lexer": "ipython3",
   "version": "3.10.10"
  }
 },
 "nbformat": 4,
 "nbformat_minor": 2
}
